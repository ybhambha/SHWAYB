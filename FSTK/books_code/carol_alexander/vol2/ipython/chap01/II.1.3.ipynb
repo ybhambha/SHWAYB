{
 "cells": [
  {
   "cell_type": "markdown",
   "metadata": {},
   "source": [
    "# Example II.1.3\n",
    "\n",
    "MULTI FACTOR MODEL\n",
    "Decomposition of portfolio risk into systematic risk and specific risk for a portfolio exposed to multiple risk factors\n"
   ]
  },
  {
   "cell_type": "code",
   "execution_count": 218,
   "metadata": {
    "collapsed": false
   },
   "outputs": [],
   "source": [
    "#Import statements\n",
    "import os\n",
    "import pandas as pd\n",
    "import numpy as np\n",
    "import statsmodels.api as sm\n",
    "import math"
   ]
  },
  {
   "cell_type": "markdown",
   "metadata": {},
   "source": [
    "Determine location of script"
   ]
  },
  {
   "cell_type": "code",
   "execution_count": 219,
   "metadata": {
    "collapsed": true
   },
   "outputs": [],
   "source": [
    "script_path = os.path.abspath('__file__') # i.e. /Users/yashwantbhambhani/Documents/SHWAYB/ipython/CarolPythonCode/2.1/2.1.1/__file__\n",
    "script_dir = os.path.split(script_path)[0] #i.e. /Users/yashwantbhambhani/Documents/SHWAYB/ipython/CarolPythonCode/2.1/2.1.1"
   ]
  },
  {
   "cell_type": "markdown",
   "metadata": {},
   "source": [
    "Load data from the input file"
   ]
  },
  {
   "cell_type": "code",
   "execution_count": 220,
   "metadata": {
    "collapsed": false
   },
   "outputs": [],
   "source": [
    "#Portfolio is comprised of only 1 stock that has betas to two risk factors\n",
    "df_portfolio_stock_risk_measures = pd.read_csv(script_dir + '/data/EX_II.1.3/Portfolio_Stock_Risk_Measures.csv', header=0, index_col=0, delimiter=\",\")\n",
    "df_risk_factors_volatility = pd.read_csv(script_dir + '/data/EX_II.1.3/Risk_Factors_Volatility.csv', header=0, index_col=0, delimiter=\",\")\n",
    "df_risk_factors_correlation = pd.read_csv(script_dir + '/data/EX_II.1.3/Risk_Factors_Correlation.csv', header=None, index_col=0, delimiter=\",\")"
   ]
  },
  {
   "cell_type": "code",
   "execution_count": 223,
   "metadata": {
    "collapsed": false
   },
   "outputs": [
    {
     "name": "stdout",
     "output_type": "stream",
     "text": [
      "INPUTS\n",
      "------\n",
      "      Beta 1:  0.8\n",
      "      Beta 1:  1.2\n",
      "      Risk factor 1 volatility:  0.15\n",
      "      Risk factor 2 volatility:  0.2\n",
      "      Correlation:  -0.5\n",
      "      Portfolio volatility:  0.25\n",
      "OUTPUTS\n",
      "-------\n",
      "      Covariance Matrix\n",
      "       [ 0.0225 -0.015 ]\n",
      "       [-0.015  0.04 ]\n",
      "      Risk Decomposition\n",
      "      Variance due to factors:  0.0432\n",
      "      Volatility due to factors:  0.207846096908\n",
      "      Specific risk:  0.138924439894\n"
     ]
    }
   ],
   "source": [
    "arr_stock_betas = np.array([float(df_portfolio_stock_risk_measures['Risk Measure']['Beta 1']), float(df_portfolio_stock_risk_measures['Risk Measure']['Beta 2'])])\n",
    "print (\"INPUTS\")\n",
    "print (\"------\")\n",
    "print (\"      Beta 1: \"), arr_stock_betas[0]\n",
    "print (\"      Beta 1: \"), arr_stock_betas[1]\n",
    "print (\"      Risk factor 1 volatility: \"), df_risk_factors_volatility['Volatility']['Risk Factor 1']\n",
    "print (\"      Risk factor 2 volatility: \"), df_risk_factors_volatility['Volatility']['Risk Factor 2']\n",
    "print (\"      Correlation: \"), df_risk_factors_correlation[1]['Risk factors correlation']\n",
    "print (\"      Portfolio volatility: \"), df_portfolio_stock_risk_measures['Risk Measure']['Volatility']\n",
    "\n",
    "#Diagonal matrix representing volatilities of individual risk factors across the diagonal\n",
    "risk_factors_volatility_diagonal_matrix = np.array([[df_risk_factors_volatility['Volatility']['Risk Factor 1'], 0], [0, df_risk_factors_volatility['Volatility']['Risk Factor 2']]])\n",
    "#Correlation matrix of risk factors\n",
    "risk_factors_correlation_matrix = np.array([[ 1, float(df_risk_factors_correlation[1]['Risk factors correlation'])], [float(df_risk_factors_correlation[1]['Risk factors correlation']), 1]])\n",
    "\n",
    "risk_factors_cov_matrix = risk_factors_volatility_diagonal_matrix.dot(risk_factors_correlation_matrix).dot(risk_factors_volatility_diagonal_matrix)\n",
    "portfolio_var_due2_factors = arr_stock_betas.dot(risk_factcors_cov_matrix).dot(arr_stock_betas)\n",
    "portfolio_volatility_due2_factors = math.sqrt(portfolio_var_due2_factors)\n",
    "portfolio_specific_risk = math.sqrt(math.pow(float(df_portfolio_stock_risk_measures['Risk Measure']['Volatility']),2)-portfolio_var_due2_factors)\n",
    "\n",
    "print (\"OUTPUTS\")\n",
    "print (\"-------\")\n",
    "print (\"      Covariance Matrix\")\n",
    "print (\"      \"), risk_factors_cov_matrix[0]\n",
    "print (\"      \"), risk_factors_cov_matrix[1]\n",
    "print (\"      Risk Decomposition\")\n",
    "print (\"      Variance due to factors: \"), portfolio_var_due2_factors\n",
    "print (\"      Volatility due to factors: \"), portfolio_volatility_due2_factors\n",
    "print (\"      Specific risk: \"), portfolio_specific_risk"
   ]
  },
  {
   "cell_type": "markdown",
   "metadata": {},
   "source": [
    "# Additional Code to improve design\n",
    "The following code provides an example of how a correlation matrix can be created dynamically if correlations between different risk factors is provided in a csv file with column A and B representing the risk factpr and the third column depicting correlations between the first two columns  "
   ]
  },
  {
   "cell_type": "code",
   "execution_count": 222,
   "metadata": {
    "collapsed": false
   },
   "outputs": [
    {
     "name": "stdout",
     "output_type": "stream",
     "text": [
      "    A  B  Correlation\n",
      "0   2  1      -0.0798\n",
      "1   3  1       0.3580\n",
      "2   3  2      -0.4060\n",
      "3   4  1       0.2880\n",
      "4   4  2      -0.1290\n",
      "5   4  3       0.1570\n",
      "6   5  1      -0.0756\n",
      "7   5  2       0.4790\n",
      "8   5  3      -0.3780\n",
      "9   5  4      -0.2650\n",
      "10  6  1       0.0909\n",
      "11  6  2      -0.3640\n",
      "12  6  3       0.4820\n",
      "13  6  4       0.2930\n",
      "14  6  5      -0.7400\n"
     ]
    },
    {
     "data": {
      "text/html": [
       "<div>\n",
       "<table border=\"1\" class=\"dataframe\">\n",
       "  <thead>\n",
       "    <tr style=\"text-align: right;\">\n",
       "      <th></th>\n",
       "      <th>1</th>\n",
       "      <th>2</th>\n",
       "      <th>3</th>\n",
       "      <th>4</th>\n",
       "      <th>5</th>\n",
       "      <th>6</th>\n",
       "    </tr>\n",
       "  </thead>\n",
       "  <tbody>\n",
       "    <tr>\n",
       "      <th>1</th>\n",
       "      <td>1.0000</td>\n",
       "      <td>-0.0798</td>\n",
       "      <td>0.358</td>\n",
       "      <td>0.288</td>\n",
       "      <td>-0.0756</td>\n",
       "      <td>0.0909</td>\n",
       "    </tr>\n",
       "    <tr>\n",
       "      <th>2</th>\n",
       "      <td>-0.0798</td>\n",
       "      <td>1.0000</td>\n",
       "      <td>-0.406</td>\n",
       "      <td>-0.129</td>\n",
       "      <td>0.4790</td>\n",
       "      <td>-0.3640</td>\n",
       "    </tr>\n",
       "    <tr>\n",
       "      <th>3</th>\n",
       "      <td>0.3580</td>\n",
       "      <td>-0.4060</td>\n",
       "      <td>1.000</td>\n",
       "      <td>0.157</td>\n",
       "      <td>-0.3780</td>\n",
       "      <td>0.4820</td>\n",
       "    </tr>\n",
       "    <tr>\n",
       "      <th>4</th>\n",
       "      <td>0.2880</td>\n",
       "      <td>-0.1290</td>\n",
       "      <td>0.157</td>\n",
       "      <td>1.000</td>\n",
       "      <td>-0.2650</td>\n",
       "      <td>0.2930</td>\n",
       "    </tr>\n",
       "    <tr>\n",
       "      <th>5</th>\n",
       "      <td>-0.0756</td>\n",
       "      <td>0.4790</td>\n",
       "      <td>-0.378</td>\n",
       "      <td>-0.265</td>\n",
       "      <td>1.0000</td>\n",
       "      <td>-0.7400</td>\n",
       "    </tr>\n",
       "    <tr>\n",
       "      <th>6</th>\n",
       "      <td>0.0909</td>\n",
       "      <td>-0.3640</td>\n",
       "      <td>0.482</td>\n",
       "      <td>0.293</td>\n",
       "      <td>-0.7400</td>\n",
       "      <td>1.0000</td>\n",
       "    </tr>\n",
       "  </tbody>\n",
       "</table>\n",
       "</div>"
      ],
      "text/plain": [
       "        1       2      3      4       5       6\n",
       "1  1.0000 -0.0798  0.358  0.288 -0.0756  0.0909\n",
       "2 -0.0798  1.0000 -0.406 -0.129  0.4790 -0.3640\n",
       "3  0.3580 -0.4060  1.000  0.157 -0.3780  0.4820\n",
       "4  0.2880 -0.1290  0.157  1.000 -0.2650  0.2930\n",
       "5 -0.0756  0.4790 -0.378 -0.265  1.0000 -0.7400\n",
       "6  0.0909 -0.3640  0.482  0.293 -0.7400  1.0000"
      ]
     },
     "execution_count": 222,
     "metadata": {},
     "output_type": "execute_result"
    }
   ],
   "source": [
    "df = pd.read_csv(script_dir + '/data/EX_II.1.3/Correlation.csv', header=0, delimiter=\",\")\n",
    "print df\n",
    "\n",
    "df2 = df.pivot(index='A', columns='B', values='Correlation')\n",
    "df2\n",
    "\n",
    "# Get a unique list of all items in rows and columns.\n",
    "items = list(df2)\n",
    "items.extend(list(df2.index))\n",
    "items = list(set(items))\n",
    "\n",
    "# Create square symmetric correlation matrix\n",
    "corr = df2.values.tolist()\n",
    "corr.insert(0, [np.nan] * len(corr))\n",
    "corr = pd.DataFrame(corr)\n",
    "corr[len(corr) - 1] = [np.nan] * len(corr)\n",
    "for i in range(len(corr)):\n",
    "    corr.iat[i, i] = 1.  # Set diagonal to 1.00\n",
    "    corr.iloc[i, i:] = corr.iloc[i:, i].values  # Flip matrix.\n",
    "\n",
    "# Rename rows and columns.\n",
    "corr.index = items\n",
    "corr.columns = items\n",
    "\n",
    "corr\n"
   ]
  }
 ],
 "metadata": {
  "kernelspec": {
   "display_name": "Python 2",
   "language": "python",
   "name": "python2"
  },
  "language_info": {
   "codemirror_mode": {
    "name": "ipython",
    "version": 2
   },
   "file_extension": ".py",
   "mimetype": "text/x-python",
   "name": "python",
   "nbconvert_exporter": "python",
   "pygments_lexer": "ipython2",
   "version": "2.7.11"
  }
 },
 "nbformat": 4,
 "nbformat_minor": 0
}
