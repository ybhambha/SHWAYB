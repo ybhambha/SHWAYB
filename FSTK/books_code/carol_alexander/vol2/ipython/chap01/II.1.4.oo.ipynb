{
 "cells": [
  {
   "cell_type": "markdown",
   "metadata": {},
   "source": [
    "# Example II.1.4\n",
    "\n",
    "STYLE ATTRIBUTION\n",
    "Performing Style analysis of mutual funds by using multiple regression and imposing constraints"
   ]
  },
  {
   "cell_type": "code",
   "execution_count": null,
   "metadata": {
    "collapsed": false
   },
   "outputs": [],
   "source": [
    "#Import statements\n",
    "#Python libraries\n",
    "import os\n",
    "import pandas as pd\n",
    "import numpy as np\n",
    "import statsmodels.api as sm\n",
    "import math\n",
    "import sys"
   ]
  },
  {
   "cell_type": "code",
   "execution_count": null,
   "metadata": {
    "collapsed": false
   },
   "outputs": [],
   "source": [
    "#FSTK libraries\n",
    "sys.path.append(os.path.abspath('/Users/yashwantbhambhani/Documents/SHWAYB/FSTK'))\n",
    "from fstkutil.data_access_util import DataAccess"
   ]
  },
  {
   "cell_type": "code",
   "execution_count": null,
   "metadata": {
    "collapsed": false
   },
   "outputs": [],
   "source": [
    "da = DataAccess()\n",
    "print da.getPathOfCSVFile(\"Historical_Prices_Indices\")"
   ]
  },
  {
   "cell_type": "code",
   "execution_count": null,
   "metadata": {
    "collapsed": true
   },
   "outputs": [],
   "source": [
    "#Arrays for storing input data\n",
    "arr_historical_prices_mutual_funds_data = []\n",
    "arr_historical_prices_indices_csv_data = []\n",
    "\n",
    "#Arrays for storing calculated data\n",
    "arr_mutual_funds_lognormal_returns = []\n",
    "arr_indices_lognormal_returns = []"
   ]
  },
  {
   "cell_type": "markdown",
   "metadata": {},
   "source": [
    "Determine location of script"
   ]
  },
  {
   "cell_type": "code",
   "execution_count": null,
   "metadata": {
    "collapsed": true
   },
   "outputs": [],
   "source": [
    "script_path = os.path.abspath('__file__') # i.e. /Users/yashwantbhambhani/Documents/SHWAYB/ipython/CarolPythonCode/2.1/2.1.1/__file__\n",
    "script_dir = os.path.split(script_path)[0] #i.e. /Users/yashwantbhambhani/Documents/SHWAYB/ipython/CarolPythonCode/2.1/2.1.1"
   ]
  },
  {
   "cell_type": "markdown",
   "metadata": {},
   "source": [
    "Load data from the input file"
   ]
  },
  {
   "cell_type": "code",
   "execution_count": 92,
   "metadata": {
    "collapsed": false
   },
   "outputs": [
    {
     "name": "stdout",
     "output_type": "stream",
     "text": [
      "Yashwant1\n",
      "[[    nan     nan     nan     nan     nan]\n",
      " [    nan   23.63  107.78    8.94   29.33]\n",
      " [    nan   23.46  106.9     8.83   29.15]\n",
      " ..., \n",
      " [    nan   28.95  131.37   10.44   36.05]\n",
      " [    nan   28.9   131.18   10.42   36.  ]\n",
      " [    nan   28.78  130.59   10.36   35.84]]\n",
      "Yashwant2\n"
     ]
    }
   ],
   "source": [
    "arr_historical_prices_mutual_funds_csv_data = np.genfromtxt (script_dir + '/data/EX_II.1.4/Historical_Prices_Mutual_Funds_2005_6.csv', delimiter=\",\")\n",
    "arr_historical_prices_indices_csv_data = np.genfromtxt (script_dir + '/data/EX_II.1.4/Historical_Prices_Indices_2005_6.csv', delimiter=\",\")"
   ]
  },
  {
   "cell_type": "markdown",
   "metadata": {},
   "source": [
    "Calculate Daily Log Normal returns"
   ]
  },
  {
   "cell_type": "code",
   "execution_count": null,
   "metadata": {
    "collapsed": false
   },
   "outputs": [],
   "source": [
    "#Remove the 'Date' column and first row corresponding to column headers containing stock symbols\n",
    "#stock_price_data in the line below also includes data for S&P 500 index\n",
    "arr_historical_prices_mutual_funds_data = arr_historical_prices_mutual_funds_csv_data[1:,1:]\n",
    "arr_historical_prices_indices_data = arr_historical_prices_indices_csv_data[1:,1:]\n",
    "\n",
    "for i in xrange(1, len(arr_historical_prices_mutual_funds_data)):\n",
    "        arr_mutual_funds_lognormal_returns.append(np.log(arr_historical_prices_mutual_funds_data[i] / arr_historical_prices_mutual_funds_data[i-1]))\n",
    "\n",
    "for i in xrange(1, len(arr_historical_prices_indices_data)):\n",
    "        arr_indices_lognormal_returns.append(np.log(arr_historical_prices_indices_data[i] / arr_historical_prices_indices_data[i-1]))\n",
    "\n",
    "#Create dataframe from array of lognormal returns\n",
    "df_daily_mutual_funds_lognormal_returns = pd.DataFrame(arr_mutual_funds_lognormal_returns)\n",
    "df_daily_indices_lognormal_returns = pd.DataFrame(arr_indices_lognormal_returns)\n",
    "\n",
    "#Specify column names to each column of the DataFrame consisting of lognormal returns\n",
    "df_daily_mutual_funds_lognormal_returns.columns = ['VAA', 'VIT', 'FAA', 'FID']\n",
    "df_daily_indices_lognormal_returns.columns = ['R1000V', 'R1000G', 'R2000V', 'R2000G']"
   ]
  },
  {
   "cell_type": "markdown",
   "metadata": {},
   "source": [
    "Calculate the difference in lognormal returns and risk factor coefficient adjusted index returns"
   ]
  },
  {
   "cell_type": "code",
   "execution_count": null,
   "metadata": {
    "collapsed": false
   },
   "outputs": [],
   "source": [
    "#Create an all-compassing universe of regression coefficients for all the four style factors\n",
    "arr_reg_coeff_for_style_factors = []\n",
    "\n",
    "for reg_coeff_for_style_factor_r1000v in np.arange(0, 1.001, 0.02):\n",
    "    for reg_coeff_for_style_factor_r1000g in np.arange(0, 1.001, 0.02):\n",
    "        for reg_coeff_for_style_factor_r2000v in np.arange(0, 1.001, 0.02):\n",
    "            for reg_coeff_for_style_factor_r2000g in np.arange(0, 1.001, 0.02):\n",
    "                if (reg_coeff_for_style_factor_r1000v + reg_coeff_for_style_factor_r1000g + reg_coeff_for_style_factor_r2000v + reg_coeff_for_style_factor_r2000g == 1):\n",
    "                    arr_reg_coeff_for_style_factors.append([reg_coeff_for_style_factor_r1000v, reg_coeff_for_style_factor_r1000g, reg_coeff_for_style_factor_r2000v, reg_coeff_for_style_factor_r2000g])"
   ]
  },
  {
   "cell_type": "code",
   "execution_count": null,
   "metadata": {
    "collapsed": false
   },
   "outputs": [],
   "source": [
    "reg_coeff_adjusted_lognormal_returns = np.array(arr_reg_coeff_for_style_factors).dot(np.array(arr_indices_lognormal_returns).transpose())\n",
    "\n",
    "arrT = np.array(arr_mutual_funds_lognormal_returns).transpose()\n",
    "\n",
    "arrT_first = arrT[0]\n",
    "arrT_first_diff = arrT_first - reg_coeff_adjusted_lognormal_returns\n",
    "arrT_first_diff_square = np.square(arrT_first_diff)\n",
    "\n",
    "arrT_second = arrT[1]\n",
    "arrT_second_diff = arrT_second - reg_coeff_adjusted_lognormal_returns\n",
    "arrT_second_diff_square = np.square(arrT_second_diff)\n",
    "\n",
    "arrT_third = arrT[2]\n",
    "arrT_third_diff = arrT_third - reg_coeff_adjusted_lognormal_returns\n",
    "arrT_third_diff_square = np.square(arrT_third_diff)\n",
    "\n",
    "arrT_fourth = arrT[3]\n",
    "arrT_fourth_diff = arrT_fourth - reg_coeff_adjusted_lognormal_returns\n",
    "arrT_fourth_diff_square = np.square(arrT_fourth_diff)\n",
    "\n",
    "x1_min_location = np.where(np.sum(arrT_first_diff_square, axis = 1) == np.min(np.sum(arrT_first_diff_square, axis = 1)))[0]\n",
    "x2_min_location = np.where(np.sum(arrT_second_diff_square, axis = 1) == np.min(np.sum(arrT_second_diff_square, axis = 1)))[0]\n",
    "x3_min_location = np.where(np.sum(arrT_third_diff_square, axis = 1) == np.min(np.sum(arrT_third_diff_square, axis = 1)))[0]\n",
    "x4_min_location = np.where(np.sum(arrT_fourth_diff_square, axis = 1) == np.min(np.sum(arrT_fourth_diff_square, axis = 1)))[0]\n",
    "\n",
    "print \"2005_6_VAA\", arr_reg_coeff_for_style_factors[x1_min_location]\n",
    "print \"2005_6_VIT\", arr_reg_coeff_for_style_factors[x2_min_location]\n",
    "print \"2005_6_FAA\", arr_reg_coeff_for_style_factors[x3_min_location]\n",
    "print \"2005_6_FID\", arr_reg_coeff_for_style_factors[x4_min_location]"
   ]
  },
  {
   "cell_type": "code",
   "execution_count": null,
   "metadata": {
    "collapsed": true
   },
   "outputs": [],
   "source": []
  }
 ],
 "metadata": {
  "kernelspec": {
   "display_name": "Python 2",
   "language": "python",
   "name": "python2"
  },
  "language_info": {
   "codemirror_mode": {
    "name": "ipython",
    "version": 2
   },
   "file_extension": ".py",
   "mimetype": "text/x-python",
   "name": "python",
   "nbconvert_exporter": "python",
   "pygments_lexer": "ipython2",
   "version": "2.7.11"
  }
 },
 "nbformat": 4,
 "nbformat_minor": 0
}
