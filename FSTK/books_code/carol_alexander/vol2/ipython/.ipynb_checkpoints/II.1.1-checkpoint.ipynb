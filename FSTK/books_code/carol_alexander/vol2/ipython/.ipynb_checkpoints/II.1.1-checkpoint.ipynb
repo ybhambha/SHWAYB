{
 "cells": [
  {
   "cell_type": "markdown",
   "metadata": {},
   "source": [
    "Example II.1.1\n",
    "\n",
    "SINGLE FACTOR MODEL\n",
    "Single Index Model\n",
    "\n",
    "OLS Estimates Of Alpha and Beta For Two Stocks"
   ]
  },
  {
   "cell_type": "code",
   "execution_count": 38,
   "metadata": {
    "collapsed": false
   },
   "outputs": [
    {
     "name": "stdout",
     "output_type": "stream",
     "text": [
      "[  1.10421032e+00  -6.61859231e-04]\n"
     ]
    }
   ],
   "source": [
    "import sys\n",
    "sys.path.append(os.path.abspath('/Users/yashwantbhambhani/Documents/SHWAYB/FSTK'))\n",
    "\n",
    "import numpy\n",
    "from numpy import *\n",
    "import pandas as pd\n",
    "import statsmodels.formula.api as sm\n",
    "from config.config import *\n",
    "\n",
    "obj_config = config()\n",
    "carol_alexander_book_data_path = obj_config.get_carol_alexander_book_data_path()\n",
    "data_path = carol_alexander_book_data_path + '/vol2/chap01/eg01/'\n",
    "\n",
    "# Reading the file\n",
    "dfStockReturns = pd.read_csv(data_path + 'EX_II.1.1.csv', \\\n",
    "                                skiprows=[1], sep=',', index_col=0)\n",
    "\n",
    "x=dfStockReturns['SPX Rtn'].values\n",
    "y=dfStockReturns['MSFT Rtn'].values\n",
    "\n",
    "regression = numpy.polyfit(x, y, 1)\n",
    "print regression"
   ]
  },
  {
   "cell_type": "markdown",
   "metadata": {},
   "source": [
    "Conclusion:\n",
    "\n",
    "Since the Alpha regression coefficient (-0.00066) is very small MSFT has no significant outperformance or underperformance of the index. However, it has significant systematic risk because the beta is higher than 1.Further, specific risk is equal to 0.03569 * sqrt(52) = 25.74%.\n",
    "    \n",
    "    "
   ]
  },
  {
   "cell_type": "markdown",
   "metadata": {},
   "source": [
    "# ALTERNATIVE WAY TO GET REGRESSION RESULTS (Using OLS library)"
   ]
  },
  {
   "cell_type": "code",
   "execution_count": 39,
   "metadata": {
    "collapsed": false
   },
   "outputs": [
    {
     "data": {
      "text/html": [
       "<div>\n",
       "<table border=\"1\" class=\"dataframe\">\n",
       "  <thead>\n",
       "    <tr style=\"text-align: right;\">\n",
       "      <th></th>\n",
       "      <th>SPX</th>\n",
       "      <th>NWL</th>\n",
       "      <th>MSFT</th>\n",
       "      <th>SPX Rtn</th>\n",
       "      <th>NWL Rtn</th>\n",
       "      <th>MSFT Rtn</th>\n",
       "    </tr>\n",
       "    <tr>\n",
       "      <th>Date</th>\n",
       "      <th></th>\n",
       "      <th></th>\n",
       "      <th></th>\n",
       "      <th></th>\n",
       "      <th></th>\n",
       "      <th></th>\n",
       "    </tr>\n",
       "  </thead>\n",
       "  <tbody>\n",
       "    <tr>\n",
       "      <th>1/10/00</th>\n",
       "      <td>1465.15</td>\n",
       "      <td>70.53</td>\n",
       "      <td>47.98</td>\n",
       "      <td>0.016428</td>\n",
       "      <td>-0.024076</td>\n",
       "      <td>0.007348</td>\n",
       "    </tr>\n",
       "    <tr>\n",
       "      <th>1/18/00</th>\n",
       "      <td>1441.36</td>\n",
       "      <td>70.28</td>\n",
       "      <td>44.34</td>\n",
       "      <td>-0.016237</td>\n",
       "      <td>-0.003545</td>\n",
       "      <td>-0.075865</td>\n",
       "    </tr>\n",
       "    <tr>\n",
       "      <th>1/24/00</th>\n",
       "      <td>1360.16</td>\n",
       "      <td>69.53</td>\n",
       "      <td>41.99</td>\n",
       "      <td>-0.056336</td>\n",
       "      <td>-0.010672</td>\n",
       "      <td>-0.053000</td>\n",
       "    </tr>\n",
       "    <tr>\n",
       "      <th>1/31/00</th>\n",
       "      <td>1424.37</td>\n",
       "      <td>70.53</td>\n",
       "      <td>45.54</td>\n",
       "      <td>0.047208</td>\n",
       "      <td>0.014382</td>\n",
       "      <td>0.084544</td>\n",
       "    </tr>\n",
       "    <tr>\n",
       "      <th>2/7/00</th>\n",
       "      <td>1387.12</td>\n",
       "      <td>70.53</td>\n",
       "      <td>42.71</td>\n",
       "      <td>-0.026152</td>\n",
       "      <td>0.000000</td>\n",
       "      <td>-0.062143</td>\n",
       "    </tr>\n",
       "  </tbody>\n",
       "</table>\n",
       "</div>"
      ],
      "text/plain": [
       "             SPX    NWL   MSFT   SPX Rtn   NWL Rtn  MSFT Rtn\n",
       "Date                                                        \n",
       "1/10/00  1465.15  70.53  47.98  0.016428 -0.024076  0.007348\n",
       "1/18/00  1441.36  70.28  44.34 -0.016237 -0.003545 -0.075865\n",
       "1/24/00  1360.16  69.53  41.99 -0.056336 -0.010672 -0.053000\n",
       "1/31/00  1424.37  70.53  45.54  0.047208  0.014382  0.084544\n",
       "2/7/00   1387.12  70.53  42.71 -0.026152  0.000000 -0.062143"
      ]
     },
     "execution_count": 39,
     "metadata": {},
     "output_type": "execute_result"
    }
   ],
   "source": [
    "# import statsmodels.formula.api as sm\n",
    "# import os\n",
    "\n",
    "# script_path = os.path.abspath('__file__') # i.e. /Users/yashwantbhambhani/Documents/SHWAYB/FSTK/books_code/carol_alexander/vol2/ipython/__file__\n",
    "# script_dir = os.path.split(script_path)[0] #i.e. /Users/yashwantbhambhani/Documents/SHWAYB/FSTK/books_code/carol_alexander/vol2/ipython\n",
    "\n",
    "# load the stock returns and index returns dataset into a pandas data frame - first column (date) used as row labels\n",
    "#dfStockReturns = pd.read_csv(script_dir +'/data/EX_II.1.1.csv', sep=',', index_col=0)\n",
    "\n",
    "dfStockReturns.head()"
   ]
  },
  {
   "cell_type": "code",
   "execution_count": 40,
   "metadata": {
    "collapsed": false
   },
   "outputs": [],
   "source": [
    "y = dfStockReturns['MSFT Rtn']  # response\n",
    "X = dfStockReturns['SPX Rtn']  # predictor\n",
    "#X = sm.add_constant(X)  # Adds a constant term to the predictor"
   ]
  },
  {
   "cell_type": "code",
   "execution_count": 41,
   "metadata": {
    "collapsed": false
   },
   "outputs": [
    {
     "name": "stdout",
     "output_type": "stream",
     "text": [
      "<class 'statsmodels.regression.linear_model.OLS'>\n"
     ]
    }
   ],
   "source": [
    "est = sm.OLS(y, X)\n",
    "print type(est)"
   ]
  },
  {
   "cell_type": "code",
   "execution_count": 42,
   "metadata": {
    "collapsed": false
   },
   "outputs": [
    {
     "data": {
      "text/html": [
       "<table class=\"simpletable\">\n",
       "<caption>OLS Regression Results</caption>\n",
       "<tr>\n",
       "  <th>Dep. Variable:</th>        <td>MSFT Rtn</td>     <th>  R-squared:         </th> <td>   0.331</td>\n",
       "</tr>\n",
       "<tr>\n",
       "  <th>Model:</th>                   <td>OLS</td>       <th>  Adj. R-squared:    </th> <td>   0.329</td>\n",
       "</tr>\n",
       "<tr>\n",
       "  <th>Method:</th>             <td>Least Squares</td>  <th>  F-statistic:       </th> <td>   196.4</td>\n",
       "</tr>\n",
       "<tr>\n",
       "  <th>Date:</th>             <td>Tue, 22 Nov 2016</td> <th>  Prob (F-statistic):</th> <td>1.56e-36</td>\n",
       "</tr>\n",
       "<tr>\n",
       "  <th>Time:</th>                 <td>08:42:40</td>     <th>  Log-Likelihood:    </th> <td>  762.65</td>\n",
       "</tr>\n",
       "<tr>\n",
       "  <th>No. Observations:</th>      <td>   398</td>      <th>  AIC:               </th> <td>  -1523.</td>\n",
       "</tr>\n",
       "<tr>\n",
       "  <th>Df Residuals:</th>          <td>   397</td>      <th>  BIC:               </th> <td>  -1519.</td>\n",
       "</tr>\n",
       "<tr>\n",
       "  <th>Df Model:</th>              <td>     1</td>      <th>                     </th>     <td> </td>   \n",
       "</tr>\n",
       "<tr>\n",
       "  <th>Covariance Type:</th>      <td>nonrobust</td>    <th>                     </th>     <td> </td>   \n",
       "</tr>\n",
       "</table>\n",
       "<table class=\"simpletable\">\n",
       "<tr>\n",
       "     <td></td>        <th>coef</th>     <th>std err</th>      <th>t</th>      <th>P>|t|</th> <th>[95.0% Conf. Int.]</th> \n",
       "</tr>\n",
       "<tr>\n",
       "  <th>SPX Rtn</th> <td>    1.1038</td> <td>    0.079</td> <td>   14.014</td> <td> 0.000</td> <td>    0.949     1.259</td>\n",
       "</tr>\n",
       "</table>\n",
       "<table class=\"simpletable\">\n",
       "<tr>\n",
       "  <th>Omnibus:</th>       <td>57.156</td> <th>  Durbin-Watson:     </th> <td>   1.907</td> \n",
       "</tr>\n",
       "<tr>\n",
       "  <th>Prob(Omnibus):</th> <td> 0.000</td> <th>  Jarque-Bera (JB):  </th> <td> 516.885</td> \n",
       "</tr>\n",
       "<tr>\n",
       "  <th>Skew:</th>          <td> 0.132</td> <th>  Prob(JB):          </th> <td>5.75e-113</td>\n",
       "</tr>\n",
       "<tr>\n",
       "  <th>Kurtosis:</th>      <td> 8.577</td> <th>  Cond. No.          </th> <td>    1.00</td> \n",
       "</tr>\n",
       "</table>"
      ],
      "text/plain": [
       "<class 'statsmodels.iolib.summary.Summary'>\n",
       "\"\"\"\n",
       "                            OLS Regression Results                            \n",
       "==============================================================================\n",
       "Dep. Variable:               MSFT Rtn   R-squared:                       0.331\n",
       "Model:                            OLS   Adj. R-squared:                  0.329\n",
       "Method:                 Least Squares   F-statistic:                     196.4\n",
       "Date:                Tue, 22 Nov 2016   Prob (F-statistic):           1.56e-36\n",
       "Time:                        08:42:40   Log-Likelihood:                 762.65\n",
       "No. Observations:                 398   AIC:                            -1523.\n",
       "Df Residuals:                     397   BIC:                            -1519.\n",
       "Df Model:                           1                                         \n",
       "Covariance Type:            nonrobust                                         \n",
       "==============================================================================\n",
       "                 coef    std err          t      P>|t|      [95.0% Conf. Int.]\n",
       "------------------------------------------------------------------------------\n",
       "SPX Rtn        1.1038      0.079     14.014      0.000         0.949     1.259\n",
       "==============================================================================\n",
       "Omnibus:                       57.156   Durbin-Watson:                   1.907\n",
       "Prob(Omnibus):                  0.000   Jarque-Bera (JB):              516.885\n",
       "Skew:                           0.132   Prob(JB):                    5.75e-113\n",
       "Kurtosis:                       8.577   Cond. No.                         1.00\n",
       "==============================================================================\n",
       "\n",
       "Warnings:\n",
       "[1] Standard Errors assume that the covariance matrix of the errors is correctly specified.\n",
       "\"\"\""
      ]
     },
     "execution_count": 42,
     "metadata": {},
     "output_type": "execute_result"
    }
   ],
   "source": [
    "est = est.fit()\n",
    "est.summary()"
   ]
  },
  {
   "cell_type": "code",
   "execution_count": null,
   "metadata": {
    "collapsed": true
   },
   "outputs": [],
   "source": []
  }
 ],
 "metadata": {
  "kernelspec": {
   "display_name": "Python 2",
   "language": "python",
   "name": "python2"
  },
  "language_info": {
   "codemirror_mode": {
    "name": "ipython",
    "version": 2
   },
   "file_extension": ".py",
   "mimetype": "text/x-python",
   "name": "python",
   "nbconvert_exporter": "python",
   "pygments_lexer": "ipython2",
   "version": "2.7.12"
  }
 },
 "nbformat": 4,
 "nbformat_minor": 0
}
