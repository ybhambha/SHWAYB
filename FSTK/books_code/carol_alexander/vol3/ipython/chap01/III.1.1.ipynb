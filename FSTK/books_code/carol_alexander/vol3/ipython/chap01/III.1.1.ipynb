{
 "cells": [
  {
   "cell_type": "markdown",
   "metadata": {},
   "source": [
    "# Example III.1.1: Continuous Versus Discrete Compounding"
   ]
  },
  {
   "cell_type": "code",
   "execution_count": 6,
   "metadata": {
    "collapsed": true
   },
   "outputs": [],
   "source": [
    "import sys\n",
    "import os\n",
    "\n",
    "sys.path.append(os.path.abspath('/Users/yashwantbhambhani/Documents/SHWAYB/FSTK'))\n",
    "from fstk_utilities_pkg.common_utilities.InterestRate import *"
   ]
  },
  {
   "cell_type": "markdown",
   "metadata": {},
   "source": [
    "#### Inputs"
   ]
  },
  {
   "cell_type": "code",
   "execution_count": 7,
   "metadata": {
    "collapsed": true
   },
   "outputs": [],
   "source": [
    "Principal = 500\n",
    "Maturity = 3.5\n",
    "Rate = 0.04\n",
    "Freq = InterestAccrualFrequency.SA #Semi-annual for discrete compounding"
   ]
  },
  {
   "cell_type": "markdown",
   "metadata": {},
   "source": [
    "#### Calculations"
   ]
  },
  {
   "cell_type": "code",
   "execution_count": 8,
   "metadata": {
    "collapsed": true
   },
   "outputs": [],
   "source": [
    "objDiscretelyCompoundedSpotRate = DiscretelyCompoundedSpotRate(Rate, Maturity, Freq)\n",
    "objContinuouslyCompoundedSpotRate = ContinuouslyCompoundedSpotRate(Rate, Maturity)"
   ]
  },
  {
   "cell_type": "markdown",
   "metadata": {},
   "source": [
    "#### Output"
   ]
  },
  {
   "cell_type": "code",
   "execution_count": 9,
   "metadata": {
    "collapsed": false
   },
   "outputs": [
    {
     "name": "stdout",
     "output_type": "stream",
     "text": [
      "Future Value using discrete compounding: 574.342833825\n",
      "Future Value using continuous compounding: 575.136899429\n"
     ]
    }
   ],
   "source": [
    "print \"Future Value using discrete compounding: \" + \\\n",
    "            str(objDiscretelyCompoundedSpotRate.FutureValue(500))\n",
    "print \"Future Value using continuous compounding: \" + \\\n",
    "            str(objContinuouslyCompoundedSpotRate.FutureValue(500))"
   ]
  }
 ],
 "metadata": {
  "kernelspec": {
   "display_name": "Python 2",
   "language": "python",
   "name": "python2"
  },
  "language_info": {
   "codemirror_mode": {
    "name": "ipython",
    "version": 2
   },
   "file_extension": ".py",
   "mimetype": "text/x-python",
   "name": "python",
   "nbconvert_exporter": "python",
   "pygments_lexer": "ipython2",
   "version": "2.7.14"
  }
 },
 "nbformat": 4,
 "nbformat_minor": 0
}
