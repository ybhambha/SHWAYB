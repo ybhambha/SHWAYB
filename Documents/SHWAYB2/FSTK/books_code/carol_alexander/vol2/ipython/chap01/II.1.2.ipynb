{
 "cells": [
  {
   "cell_type": "markdown",
   "metadata": {},
   "source": [
    "Example II.1.2\n",
    "\n",
    "SINGLE FACTOR MODEL\n",
    "Single Index Model\n",
    "\n",
    "OLS Estimates Of Alpha and Beta For a Portfolio of Two Stocks (60% invested in AMEX and 40% invested in CSCO)"
   ]
  },
  {
   "cell_type": "code",
   "execution_count": 1046,
   "metadata": {
    "collapsed": false
   },
   "outputs": [],
   "source": [
    "#Import statements\n",
    "import os\n",
    "import pandas as pd\n",
    "import numpy as np\n",
    "import statsmodels.api as sm\n",
    "import math"
   ]
  },
  {
   "cell_type": "code",
   "execution_count": 1047,
   "metadata": {
    "collapsed": true
   },
   "outputs": [],
   "source": [
    "#Arrays for storing input data\n",
    "arr_stock_price_data = []\n",
    "arr_portfolio_allocation_data = []\n",
    "\n",
    "#Arrays for storing calculated data\n",
    "arr_daily_stock_lognormal_returns = []"
   ]
  },
  {
   "cell_type": "markdown",
   "metadata": {},
   "source": [
    "Determine location of script"
   ]
  },
  {
   "cell_type": "code",
   "execution_count": 1048,
   "metadata": {
    "collapsed": true
   },
   "outputs": [],
   "source": [
    "script_path = os.path.abspath('__file__') # i.e. /Users/yashwantbhambhani/Documents/SHWAYB/ipython/CarolPythonCode/2.1/2.1.1/__file__\n",
    "script_dir = os.path.split(script_path)[0] #i.e. /Users/yashwantbhambhani/Documents/SHWAYB/ipython/CarolPythonCode/2.1/2.1.1"
   ]
  },
  {
   "cell_type": "markdown",
   "metadata": {},
   "source": [
    "Load data from the input file"
   ]
  },
  {
   "cell_type": "code",
   "execution_count": 1049,
   "metadata": {
    "collapsed": true
   },
   "outputs": [],
   "source": [
    "arr_stock_price_csv_data = np.genfromtxt (script_dir + '/data/EX_II.1.2/Stocks_Prices.csv', delimiter=\",\")\n",
    "#dtype = None has been specified in the next line of code to account for the first column being a string\n",
    "arr_portfolio_allocation_csv_data = np.genfromtxt(script_dir + '/data/EX_II.1.2/Portfolio_Allocation.csv',delimiter=\",\",dtype=None)"
   ]
  },
  {
   "cell_type": "markdown",
   "metadata": {},
   "source": [
    "Calculate Daily Log Normal returns"
   ]
  },
  {
   "cell_type": "code",
   "execution_count": 1050,
   "metadata": {
    "collapsed": false
   },
   "outputs": [],
   "source": [
    "#Remove the 'Date' column and first row corresponding to column headers containing stock symbols\n",
    "#stock_price_data in the line below also includes data for S&P 500 index\n",
    "arr_stock_price_data = arr_stock_price_csv_data[1:,1:]\n",
    "\n",
    "for i in xrange(1, len(stock_price_data)):\n",
    "        arr_daily_stock_lognormal_returns.append(np.log(arr_stock_price_data[i] / arr_stock_price_data[i-1]))\n",
    "\n",
    "#Create dataframe from array of lognormal returns\n",
    "df_daily_stock_lognormal_returns = pd.DataFrame(arr_daily_stock_lognormal_returns)\n",
    "#Specify column names to each column of the DataFrame consisting of lognormal returns\n",
    "df_daily_stock_lognormal_returns.columns = ['SP500', 'AMEX', 'CSCO']"
   ]
  },
  {
   "cell_type": "markdown",
   "metadata": {},
   "source": [
    "Calculate portfolio returns"
   ]
  },
  {
   "cell_type": "code",
   "execution_count": 1051,
   "metadata": {
    "collapsed": false
   },
   "outputs": [],
   "source": [
    "#Transpose the data in portfolio_allocation_csv_data to make it easier to get weights of stocks in the portfolio\n",
    "df_portfolio_allocation = pd.DataFrame(arr_portfolio_allocation_csv_data).T\n",
    "df_portfolio_allocation.columns = ['SP500', 'AMEX', 'CSCO']\n",
    "\n",
    "df_daily_SP500_rtn = df_daily_stock_lognormal_returns['SP500']\n",
    "df_daily_portfolio_AMEX_rtn = df_daily_stock_lognormal_returns['AMEX'] * df_portfolio_allocation['AMEX'].get_value(1, 0)\n",
    "df_daily_portfolio_CSCO_rtn = df_daily_stock_lognormal_returns['CSCO'] * df_portfolio_allocation['CSCO'].get_value(1, 0)\n",
    "df_daily_portfolio_rtn = df_daily_portfolio_AMEX_rtn + df_daily_portfolio_CSCO_rtn"
   ]
  },
  {
   "cell_type": "markdown",
   "metadata": {},
   "source": [
    "# OLS Regression Output for AMEX returns versus SP500 returns "
   ]
  },
  {
   "cell_type": "code",
   "execution_count": 1052,
   "metadata": {
    "collapsed": false
   },
   "outputs": [
    {
     "name": "stdout",
     "output_type": "stream",
     "text": [
      "                            OLS Regression Results                            \n",
      "==============================================================================\n",
      "Dep. Variable:                   AMEX   R-squared:                       0.508\n",
      "Model:                            OLS   Adj. R-squared:                  0.508\n",
      "Method:                 Least Squares   F-statistic:                     2071.\n",
      "Date:                Wed, 03 Aug 2016   Prob (F-statistic):          2.86e-311\n",
      "Time:                        20:43:55   Log-Likelihood:                 5702.9\n",
      "No. Observations:                2009   AIC:                        -1.140e+04\n",
      "Df Residuals:                    2007   BIC:                        -1.139e+04\n",
      "Df Model:                           1                                         \n",
      "Covariance Type:            nonrobust                                         \n",
      "==============================================================================\n",
      "                 coef    std err          t      P>|t|      [95.0% Conf. Int.]\n",
      "------------------------------------------------------------------------------\n",
      "const          0.0002      0.000      0.554      0.579        -0.000     0.001\n",
      "SP500          1.2400      0.027     45.505      0.000         1.187     1.293\n",
      "==============================================================================\n",
      "Omnibus:                      226.570   Durbin-Watson:                   2.069\n",
      "Prob(Omnibus):                  0.000   Jarque-Bera (JB):             1717.867\n",
      "Skew:                          -0.225   Prob(JB):                         0.00\n",
      "Kurtosis:                       7.508   Cond. No.                         86.2\n",
      "==============================================================================\n",
      "\n",
      "Warnings:\n",
      "[1] Standard Errors assume that the covariance matrix of the errors is correctly specified.\n"
     ]
    }
   ],
   "source": [
    "y = df_daily_stock_lognormal_returns['AMEX']  # response\n",
    "X = df_daily_SP500_rtn  # predictor\n",
    "X = sm.add_constant(X)  # Adds a constant term to the predictor\n",
    "model = sm.OLS(y, X)\n",
    "ols_amex_sp500_results = model.fit()\n",
    "print(ols_amex_sp500_results.summary())"
   ]
  },
  {
   "cell_type": "markdown",
   "metadata": {},
   "source": [
    "# OLS Regression Output for CSCO returns versus SP500 returns"
   ]
  },
  {
   "cell_type": "code",
   "execution_count": 1053,
   "metadata": {
    "collapsed": false
   },
   "outputs": [
    {
     "name": "stdout",
     "output_type": "stream",
     "text": [
      "                            OLS Regression Results                            \n",
      "==============================================================================\n",
      "Dep. Variable:                   CSCO   R-squared:                       0.433\n",
      "Model:                            OLS   Adj. R-squared:                  0.433\n",
      "Method:                 Least Squares   F-statistic:                     1534.\n",
      "Date:                Wed, 03 Aug 2016   Prob (F-statistic):          8.92e-250\n",
      "Time:                        20:43:55   Log-Likelihood:                 4696.4\n",
      "No. Observations:                2009   AIC:                            -9389.\n",
      "Df Residuals:                    2007   BIC:                            -9378.\n",
      "Df Model:                           1                                         \n",
      "Covariance Type:            nonrobust                                         \n",
      "==============================================================================\n",
      "                 coef    std err          t      P>|t|      [95.0% Conf. Int.]\n",
      "------------------------------------------------------------------------------\n",
      "const         -0.0002      0.001     -0.424      0.672        -0.001     0.001\n",
      "SP500          1.7615      0.045     39.170      0.000         1.673     1.850\n",
      "==============================================================================\n",
      "Omnibus:                      269.722   Durbin-Watson:                   2.057\n",
      "Prob(Omnibus):                  0.000   Jarque-Bera (JB):             3257.482\n",
      "Skew:                           0.068   Prob(JB):                         0.00\n",
      "Kurtosis:                       9.237   Cond. No.                         86.2\n",
      "==============================================================================\n",
      "\n",
      "Warnings:\n",
      "[1] Standard Errors assume that the covariance matrix of the errors is correctly specified.\n"
     ]
    }
   ],
   "source": [
    "y = df_daily_stock_lognormal_returns['CSCO']  # response\n",
    "X = df_daily_SP500_rtn  # predictor\n",
    "X = sm.add_constant(X)  # Adds a constant term to the predictor\n",
    "model = sm.OLS(y, X)\n",
    "ols_csco_sp500_results = model.fit()\n",
    "print(ols_csco_sp500_results.summary())"
   ]
  },
  {
   "cell_type": "markdown",
   "metadata": {},
   "source": [
    "# Alternative 1: Determining Portfolio Beta using\n",
    "OLS Regression Output for Portfolio returns versus SP500 returns"
   ]
  },
  {
   "cell_type": "code",
   "execution_count": 1054,
   "metadata": {
    "collapsed": false
   },
   "outputs": [
    {
     "name": "stdout",
     "output_type": "stream",
     "text": [
      "                            OLS Regression Results                            \n",
      "==============================================================================\n",
      "Dep. Variable:                      y   R-squared:                       0.681\n",
      "Model:                            OLS   Adj. R-squared:                  0.681\n",
      "Method:                 Least Squares   F-statistic:                     4284.\n",
      "Date:                Wed, 03 Aug 2016   Prob (F-statistic):               0.00\n",
      "Time:                        20:43:55   Log-Likelihood:                 6120.7\n",
      "No. Observations:                2009   AIC:                        -1.224e+04\n",
      "Df Residuals:                    2007   BIC:                        -1.223e+04\n",
      "Df Model:                           1                                         \n",
      "Covariance Type:            nonrobust                                         \n",
      "==============================================================================\n",
      "                 coef    std err          t      P>|t|      [95.0% Conf. Int.]\n",
      "------------------------------------------------------------------------------\n",
      "const       1.665e-05      0.000      0.065      0.948        -0.000     0.001\n",
      "SP500          1.4486      0.022     65.450      0.000         1.405     1.492\n",
      "==============================================================================\n",
      "Omnibus:                      185.585   Durbin-Watson:                   2.099\n",
      "Prob(Omnibus):                  0.000   Jarque-Bera (JB):             1263.474\n",
      "Skew:                           0.021   Prob(JB):                    4.37e-275\n",
      "Kurtosis:                       6.885   Cond. No.                         86.2\n",
      "==============================================================================\n",
      "\n",
      "Warnings:\n",
      "[1] Standard Errors assume that the covariance matrix of the errors is correctly specified.\n"
     ]
    }
   ],
   "source": [
    "y = df_daily_portfolio_rtn  # response\n",
    "X = df_daily_SP500_rtn  # predictor\n",
    "X = sm.add_constant(X)  # Adds a constant term to the predictor\n",
    "model = sm.OLS(y, X)\n",
    "ols_portfolio_sp500_results = model.fit()\n",
    "print(ols_portfolio_sp500_results.summary())"
   ]
  },
  {
   "cell_type": "markdown",
   "metadata": {},
   "source": [
    "# Alternative 2: Calculating Portfolio Alpha and Beta using \n",
    "1. Alpha and Beta of AMEX and CSCO and \n",
    "2. Weights of the two equity positions in the equity portfolio"
   ]
  },
  {
   "cell_type": "code",
   "execution_count": 1055,
   "metadata": {
    "collapsed": false
   },
   "outputs": [
    {
     "name": "stdout",
     "output_type": "stream",
     "text": [
      "Portfolio Alpha:  1.66515397942e-05\n",
      "Portfolio Beta:  1.44862663412\n",
      "Standard Error of Coefficient:  const    0.000316\n",
      "SP500    0.027250\n",
      "dtype: float64\n",
      "Standard Error of Regression:  0.0141633068665\n"
     ]
    }
   ],
   "source": [
    "portfolio_alpha = df_portfolio_allocation['AMEX'].get_value(1, 0) * ols_amex_sp500_results.params[\"const\"] + df_portfolio_allocation['CSCO'].get_value(1, 0) * ols_csco_sp500_results.params['const']\n",
    "portfolio_beta = df_portfolio_allocation['AMEX'].get_value(1, 0) * ols_amex_sp500_results.params[\"SP500\"] + df_portfolio_allocation['CSCO'].get_value(1, 0) * ols_csco_sp500_results.params[\"SP500\"]\n",
    "print \"Portfolio Alpha: \", portfolio_alpha\n",
    "print \"Portfolio Beta: \", portfolio_beta\n",
    "print \"Standard Error of Coefficient: \", ols_amex_sp500_results.bse\n",
    "print \"Standard Error of Regression: \", math.sqrt(ols_amex_sp500_results.mse_resid)\n",
    "#print dir(ols_amex_sp500_results)\n",
    "#     for attr in dir(ols_amex_sp500_results):\n",
    "#             print \"ols_amex_sp500_results.%s = %s\" % (attr, getattr(ols_amex_sp500_results, attr))"
   ]
  },
  {
   "cell_type": "markdown",
   "metadata": {},
   "source": [
    "# SUMMARY #1"
   ]
  },
  {
   "cell_type": "code",
   "execution_count": 1056,
   "metadata": {
    "collapsed": false
   },
   "outputs": [
    {
     "name": "stdout",
     "output_type": "stream",
     "text": [
      "                    AMEX      CSCO  Portfolio\n",
      "Alpha           0.000175 -0.000221   0.000017\n",
      "Beta            1.240011  1.761550   1.448627\n",
      "Standard Error  0.014163  0.023374   0.011504\n",
      "Specific Risk   0.223942  0.369573   0.181891\n"
     ]
    }
   ],
   "source": [
    "arr_alpha = [ols_amex_sp500_results.params[\"const\"], ols_csco_sp500_results.params[\"const\"], ols_portfolio_sp500_results.params[\"const\"]]\n",
    "arr_beta = [ols_amex_sp500_results.params[\"SP500\"], ols_csco_sp500_results.params[\"SP500\"], ols_portfolio_sp500_results.params[\"SP500\"]]\n",
    "arr_std_error = [math.sqrt(ols_amex_sp500_results.mse_resid), math.sqrt(ols_csco_sp500_results.mse_resid), math.sqrt(ols_portfolio_sp500_results.mse_resid)]\n",
    "arr_specific_risk = [math.sqrt(ols_amex_sp500_results.mse_resid)*math.sqrt(250),\n",
    "                     math.sqrt(ols_csco_sp500_results.mse_resid)*math.sqrt(250),\n",
    "                     math.sqrt(ols_portfolio_sp500_results.mse_resid)*math.sqrt(250)]\n",
    "\n",
    "df_summary_temp = pd.DataFrame({'Alpha':arr_alpha,'Beta':arr_beta,'Standard Error':arr_std_error,'Specific Risk':arr_specific_risk})\n",
    "column_order = ['Alpha', 'Beta', 'Standard Error', 'Specific Risk']\n",
    "df_summary_temp = df_summary_temp[column_order]\n",
    "#Transpose the df_summary_temp dataframe \n",
    "df_summary = df_summary_temp.T\n",
    "df_summary.columns = ['AMEX', 'CSCO', 'Portfolio']\n",
    "print(df_summary)"
   ]
  },
  {
   "cell_type": "markdown",
   "metadata": {},
   "source": [
    "Specific Risk in the above summary is based on regressing the constant weighted return series {0.6 * AMEX Return + 0.4 * CSCO Return} on the index returns"
   ]
  },
  {
   "cell_type": "markdown",
   "metadata": {},
   "source": [
    "# Specific Risk (Method 2) of portfolio using weights of stocks in the portfolio and specific risk of individual stocks"
   ]
  },
  {
   "cell_type": "code",
   "execution_count": 1057,
   "metadata": {
    "collapsed": true
   },
   "outputs": [],
   "source": [
    "specific_risk_2 = math.sqrt(math.pow(df_summary['AMEX']['Specific Risk']*df_portfolio_allocation['AMEX'].get_value(1, 0),2)+\n",
    "                        math.pow(df_summary['CSCO']['Specific Risk']*df_portfolio_allocation['CSCO'].get_value(1, 0),2))\n"
   ]
  },
  {
   "cell_type": "markdown",
   "metadata": {},
   "source": [
    "# Systematic Risk Calculation using Beta of the portfolio and standard deviation of the SP100 index"
   ]
  },
  {
   "cell_type": "code",
   "execution_count": 1058,
   "metadata": {
    "collapsed": false
   },
   "outputs": [],
   "source": [
    "sp500_vol = np.std(df_daily_SP500_rtn)*math.sqrt(250)\n",
    "ols_systematic_risk = ols_portfolio_sp500_results.params[\"SP500\"] * sp500_vol"
   ]
  },
  {
   "cell_type": "markdown",
   "metadata": {},
   "source": [
    "# Correlation between AMEX / SP500 daily lognormal returns & CSCO / SP500 lognormal returns"
   ]
  },
  {
   "cell_type": "code",
   "execution_count": 1059,
   "metadata": {
    "collapsed": true
   },
   "outputs": [],
   "source": [
    "amex_sp100_corr = np.corrcoef(df_daily_stock_lognormal_returns['SP500'], df_daily_stock_lognormal_returns['AMEX'])\n",
    "csco_sp100_corr = np.corrcoef(df_daily_stock_lognormal_returns['SP500'], df_daily_stock_lognormal_returns['CSCO'])"
   ]
  },
  {
   "cell_type": "markdown",
   "metadata": {},
   "source": [
    "# Summary #2"
   ]
  },
  {
   "cell_type": "code",
   "execution_count": 1060,
   "metadata": {
    "collapsed": false
   },
   "outputs": [
    {
     "name": "stdout",
     "output_type": "stream",
     "text": [
      "Specific Risk of Portfolio (Method 2) 0.199768307624\n",
      "SP100 Volatility:  0.183346945592\n",
      "OLS Systematic Risk (Method 2):  0.265601268669\n",
      "AMEX_SP100 Correlation:  0.71260517898\n",
      "CSCO_SP100 Correlation:  0.658227114926\n"
     ]
    }
   ],
   "source": [
    "print \"Specific Risk of Portfolio (Method 2)\", specific_risk_2\n",
    "print \"SP100 Volatility: \", sp500_vol\n",
    "print \"OLS Systematic Risk (Method 2): \", ols_systematic_risk\n",
    "print \"AMEX_SP100 Correlation: \", amex_sp100_corr[0,1]\n",
    "print \"CSCO_SP100 Correlation: \", csco_sp100_corr[0,1]"
   ]
  },
  {
   "cell_type": "markdown",
   "metadata": {},
   "source": [
    "# Conclusion - Which Specic Risk of Portfolio should be used?"
   ]
  },
  {
   "cell_type": "markdown",
   "metadata": {},
   "source": [
    "The one computed by the output of regression between constant weighted return series on the index returns"
   ]
  }
 ],
 "metadata": {
  "kernelspec": {
   "display_name": "Python 2",
   "language": "python",
   "name": "python2"
  },
  "language_info": {
   "codemirror_mode": {
    "name": "ipython",
    "version": 2
   },
   "file_extension": ".py",
   "mimetype": "text/x-python",
   "name": "python",
   "nbconvert_exporter": "python",
   "pygments_lexer": "ipython2",
   "version": "2.7.11"
  }
 },
 "nbformat": 4,
 "nbformat_minor": 0
}
