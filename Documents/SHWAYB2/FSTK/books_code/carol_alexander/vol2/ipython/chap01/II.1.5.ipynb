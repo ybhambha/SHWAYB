{
 "cells": [
  {
   "cell_type": "markdown",
   "metadata": {},
   "source": [
    "# Example II.1.5\n",
    "\n",
    "MULTI FACTOR MODEL\n",
    "Decomposition of portfolio risk into systematic risk and specific risk for a portfolio of stocks exposed to multiple risk factors\n"
   ]
  },
  {
   "cell_type": "code",
   "execution_count": 43,
   "metadata": {
    "collapsed": false
   },
   "outputs": [],
   "source": [
    "#Import statements\n",
    "import os\n",
    "import sys\n",
    "import pandas as pd\n",
    "import numpy as np\n",
    "import math\n",
    "\n",
    "sys.path.append(os.path.abspath('/Users/yashwantbhambhani/Documents/SHWAYB/FSTK'))\n",
    "\n",
    "from fstk_utilities_pkg.portfolio_manager.portfolio import *\n",
    "from fstk_utilities_pkg.instruments.equity import *\n",
    "from fstk_utilities_pkg.data_access_utilities.data_access_util import *\n",
    "from fstk_utilities_pkg.risk_manager.equity_risk import *\n",
    "from fstk_utilities_pkg.common_utilities.array_util import *"
   ]
  },
  {
   "cell_type": "markdown",
   "metadata": {},
   "source": [
    "Specify the folder structure where file is located"
   ]
  },
  {
   "cell_type": "code",
   "execution_count": 44,
   "metadata": {
    "collapsed": true
   },
   "outputs": [],
   "source": [
    "volume = \"vol2\"\n",
    "chapter = \"chap01\"\n",
    "example = \"eg05\""
   ]
  },
  {
   "cell_type": "markdown",
   "metadata": {},
   "source": [
    "Set Name of the hypothetical portfolio"
   ]
  },
  {
   "cell_type": "code",
   "execution_count": 45,
   "metadata": {
    "collapsed": true
   },
   "outputs": [],
   "source": [
    "portfolio_name = \"port_\" + volume + \"_\" + chapter + \"_\" + example"
   ]
  },
  {
   "cell_type": "markdown",
   "metadata": {},
   "source": [
    "Declare variables"
   ]
  },
  {
   "cell_type": "code",
   "execution_count": 46,
   "metadata": {
    "collapsed": true
   },
   "outputs": [],
   "source": [
    "obj_portfolio = portfolio(portfolio_name)\n",
    "\n",
    "obj_df_risk_factors_data = DataAsDataFrame(DatasetTypeList.DATAFRAME)\n",
    "obj_df_equity_instruments_data = DataAsDataFrame(DatasetTypeList.DATAFRAME)\n",
    "obj_df_stocks_betas_data = DataAsDataFrame(DatasetTypeList.DATAFRAME)\n",
    "obj_df_portfolio_data = DataAsDataFrame(DatasetTypeList.DATAFRAME)"
   ]
  },
  {
   "cell_type": "markdown",
   "metadata": {},
   "source": [
    "#### Load data from the input file\n",
    "##### Portfolio is comprised of 3 stocks that are sensitive to two risk factors (Index1 and Index2)"
   ]
  },
  {
   "cell_type": "code",
   "execution_count": 47,
   "metadata": {
    "collapsed": false
   },
   "outputs": [
    {
     "name": "stderr",
     "output_type": "stream",
     "text": [
      "INFO:fstk_utilities_pkg.data_access_utilities.data_access_util:vol2chap01eg05Risk_Factorscarol_alexander_bookcsv\n",
      "INFO:fstk_utilities_pkg.data_access_utilities.data_access_util:vol2chap01eg05Equity_Instrumentscarol_alexander_bookcsv\n",
      "INFO:fstk_utilities_pkg.data_access_utilities.data_access_util:vol2chap01eg05Stocks_Betascarol_alexander_bookcsv\n",
      "INFO:fstk_utilities_pkg.data_access_utilities.data_access_util:vol2chap01eg05Portfoliocarol_alexander_bookcsv\n"
     ]
    }
   ],
   "source": [
    "df_risk_factors_data = obj_df_risk_factors_data.getData(s_volume=volume, s_chapter=chapter, s_example=example, \\\n",
    "                        s_source_filename=\"Risk_Factors\", s_source_type=\"csv\", verbose=False)\n",
    "\n",
    "df_equity_instruments_data = obj_df_equity_instruments_data.getData(s_volume=volume, s_chapter=chapter,\\\n",
    "                        s_example=example, s_source_filename=\"Equity_Instruments\", s_source_type=\"csv\", verbose=False)\n",
    "\n",
    "df_stocks_beta_data = obj_df_stocks_betas_data.getData(s_volume=volume, s_chapter=chapter, s_example=example, \\\n",
    "                        s_source_filename=\"Stocks_Betas\", s_source_type=\"csv\", verbose=False)                                \n",
    "\n",
    "df_portfolio_data = obj_df_portfolio_data.getData(s_volume=volume, s_chapter=chapter, s_example=example, \\\n",
    "                        s_source_filename=\"Portfolio\", s_source_type=\"csv\", verbose=False)"
   ]
  },
  {
   "cell_type": "markdown",
   "metadata": {},
   "source": [
    "#### Setting universe of risk factors"
   ]
  },
  {
   "cell_type": "code",
   "execution_count": 48,
   "metadata": {
    "collapsed": true
   },
   "outputs": [],
   "source": [
    "arr_risk_factors = []\n",
    "\n",
    "for risk_factor in df_risk_factors_data.index:\n",
    "    obj_risk_factor = equity_risk_factor(risk_factor,\\\n",
    "                        df_risk_factors_data.ix[risk_factor]['Asset Class'])    \n",
    "    arr_risk_factors.append(obj_risk_factor)"
   ]
  },
  {
   "cell_type": "markdown",
   "metadata": {},
   "source": [
    "#### Setting universe of equity instruments"
   ]
  },
  {
   "cell_type": "code",
   "execution_count": 49,
   "metadata": {
    "collapsed": false
   },
   "outputs": [
    {
     "name": "stderr",
     "output_type": "stream",
     "text": [
      "INFO:fstk_utilities_pkg.instruments.equity:Risk Factor To Be Added: Index1\n",
      "INFO:fstk_utilities_pkg.instruments.equity:Risk Factor Sensitivity to be setIndex10.2\n",
      "INFO:fstk_utilities_pkg.instruments.equity:Risk Factor To Be Added: Index2\n",
      "INFO:fstk_utilities_pkg.instruments.equity:Risk Factor Sensitivity to be setIndex21.2\n",
      "INFO:fstk_utilities_pkg.instruments.equity:Risk Factor To Be Added: Index1\n",
      "INFO:fstk_utilities_pkg.instruments.equity:Risk Factor Sensitivity to be setIndex10.9\n",
      "INFO:fstk_utilities_pkg.instruments.equity:Risk Factor To Be Added: Index2\n",
      "INFO:fstk_utilities_pkg.instruments.equity:Risk Factor Sensitivity to be setIndex20.2\n",
      "INFO:fstk_utilities_pkg.instruments.equity:Risk Factor To Be Added: Index1\n",
      "INFO:fstk_utilities_pkg.instruments.equity:Risk Factor Sensitivity to be setIndex11.3\n",
      "INFO:fstk_utilities_pkg.instruments.equity:Risk Factor To Be Added: Index2\n",
      "INFO:fstk_utilities_pkg.instruments.equity:Risk Factor Sensitivity to be setIndex20.7\n"
     ]
    }
   ],
   "source": [
    "arr_equity_instruments = []\n",
    "\n",
    "for equity_instrument in df_equity_instruments_data.index:\n",
    "    obj_equity = equity_valuation_multi(equity_instrument)\n",
    "    for risk_factor in arr_risk_factors:\n",
    "        if risk_factor.getAssetClass() == risk_factor_asset_class.EQT:\n",
    "            obj_equity.addRiskFactor(risk_factor)\n",
    "            if (risk_factor.getRiskFactorName() == 'Index1'):\n",
    "                obj_equity.setRiskFactorSensValue(risk_factor.getRiskFactorName(),\\\n",
    "                        df_stocks_beta_data.ix[equity_instrument]['Beta 1'])\n",
    "            elif (risk_factor.getRiskFactorName() == 'Index2'):\n",
    "                obj_equity.setRiskFactorSensValue(risk_factor.getRiskFactorName(),\\\n",
    "                        df_stocks_beta_data.ix[equity_instrument]['Beta 2'])\n",
    "    arr_equity_instruments.append(obj_equity)"
   ]
  },
  {
   "cell_type": "markdown",
   "metadata": {},
   "source": [
    "#### Creating a new portfolio"
   ]
  },
  {
   "cell_type": "code",
   "execution_count": 50,
   "metadata": {
    "collapsed": true
   },
   "outputs": [],
   "source": [
    "obj_portfolio = portfolio(portfolio_name)"
   ]
  },
  {
   "cell_type": "markdown",
   "metadata": {},
   "source": [
    "#### Adding positions to the portfolio"
   ]
  },
  {
   "cell_type": "code",
   "execution_count": 51,
   "metadata": {
    "collapsed": false
   },
   "outputs": [
    {
     "name": "stderr",
     "output_type": "stream",
     "text": [
      "INFO:fstk_utilities_pkg.portfolio_manager.portfolio:<type 'instance'>\n",
      "INFO:fstk_utilities_pkg.instruments.equity:Retrieving sens value for Stock1\n",
      "INFO:fstk_utilities_pkg.instruments.equity:Retrieving sens value for Stock1\n",
      "INFO:fstk_utilities_pkg.portfolio_manager.portfolio:<type 'instance'>\n",
      "INFO:fstk_utilities_pkg.instruments.equity:Retrieving sens value for Stock2\n",
      "INFO:fstk_utilities_pkg.instruments.equity:Retrieving sens value for Stock2\n",
      "INFO:fstk_utilities_pkg.portfolio_manager.portfolio:<type 'instance'>\n",
      "INFO:fstk_utilities_pkg.instruments.equity:Retrieving sens value for Stock3\n",
      "INFO:fstk_utilities_pkg.instruments.equity:Retrieving sens value for Stock3\n"
     ]
    },
    {
     "name": "stdout",
     "output_type": "stream",
     "text": [
      "       risk_factor  risk_factor_sens\n",
      "Index1      Index1               0.2\n",
      "Index2      Index2               1.2\n",
      "       risk_factor  risk_factor_sens\n",
      "Index1      Index1               0.2\n",
      "Index2      Index2               1.2\n",
      "       risk_factor  risk_factor_sens\n",
      "Index1      Index1               0.9\n",
      "Index2      Index2               0.2\n",
      "       risk_factor  risk_factor_sens\n",
      "Index1      Index1               0.9\n",
      "Index2      Index2               0.2\n",
      "       risk_factor  risk_factor_sens\n",
      "Index1      Index1               1.3\n",
      "Index2      Index2               0.7\n",
      "       risk_factor  risk_factor_sens\n",
      "Index1      Index1               1.3\n",
      "Index2      Index2               0.7\n"
     ]
    }
   ],
   "source": [
    "for portfolio_item in df_portfolio_data.index:\n",
    "    #Get the corresponding equity object from the array of equity objects\n",
    "    for equity_obj in arr_equity_instruments:\n",
    "        if equity_obj.getIdentifier() == portfolio_item:\n",
    "            obj_position = equity_position(equity_obj, position_type.EQT,\\\n",
    "                                df_portfolio_data.ix[portfolio_item]['Weight'],\n",
    "                                df_portfolio_data.ix[portfolio_item]['Weight'])\n",
    "            obj_portfolio.addPosition(obj_position)\n",
    "\n",
    "arr_portfolio_positions = obj_portfolio.getPositions()\n",
    "arr_portfolio_positions_betas = obj_portfolio.getPositionsBetas()"
   ]
  },
  {
   "cell_type": "markdown",
   "metadata": {},
   "source": [
    "#### Filtering correlations data to get correlation matrix for stocks in the portfolio\n",
    "##### This information should be cached"
   ]
  },
  {
   "cell_type": "code",
   "execution_count": 52,
   "metadata": {
    "collapsed": false
   },
   "outputs": [
    {
     "name": "stderr",
     "output_type": "stream",
     "text": [
      "INFO:fstk_utilities_pkg.data_access_utilities.data_access_util:vol2chap01eg05Risk_Factors_Correlationcarol_alexander_bookcsv\n"
     ]
    }
   ],
   "source": [
    "obj_db = Db()\n",
    "df_all_risk_factors_correlations = \\\n",
    "                        obj_db.getAllRiskFactorsCorrelations()"
   ]
  },
  {
   "cell_type": "markdown",
   "metadata": {},
   "source": [
    "#### Retrieve all the correlations for the risk factors of the portfolio"
   ]
  },
  {
   "cell_type": "code",
   "execution_count": 53,
   "metadata": {
    "collapsed": false
   },
   "outputs": [],
   "source": [
    "lst_portfolio_all_risk_factors = obj_portfolio.getAllRiskFactorsNames()\n",
    "row_filter = lst_portfolio_all_risk_factors\n",
    "column_filter = lst_portfolio_all_risk_factors                        \n",
    "df_portfolio_stocks_risk_factors_correlations = \\\n",
    "            df_all_risk_factors_correlations.ix[row_filter][column_filter]\n",
    "lst_portfolio_stocks_risk_factors_correlation = \\\n",
    "            df_portfolio_stocks_risk_factors_correlations.values.tolist()"
   ]
  },
  {
   "cell_type": "markdown",
   "metadata": {},
   "source": [
    "#### Calculate Variance Covariance Matrix of risk factors"
   ]
  },
  {
   "cell_type": "code",
   "execution_count": 54,
   "metadata": {
    "collapsed": false
   },
   "outputs": [],
   "source": [
    "obj_array_util = array_util()\n",
    "lst_equities_risk_factors = obj_portfolio.getAllRiskFactors()\n",
    "ser_risk_factors_vol_data = df_risk_factors_data['Volatility']\n",
    "df_risk_factors_vol_data = pd.DataFrame(ser_risk_factors_vol_data)\n",
    "mat_portfolio_risk_factors_var_covar = obj_array_util.calc_var_covar_matrix(\\\n",
    "                                obj_portfolio.getAllRiskFactorsNames(), \\\n",
    "                                df_risk_factors_vol_data,\\\n",
    "                                lst_portfolio_stocks_risk_factors_correlation\n",
    "                                )\n",
    "                                \n",
    "obj_portfolio.setPortfolioRiskFactorsVarCovarMatrix(\\\n",
    "                                mat_portfolio_risk_factors_var_covar)"
   ]
  },
  {
   "cell_type": "markdown",
   "metadata": {},
   "source": [
    "#### Calculate Portfolio Risk"
   ]
  },
  {
   "cell_type": "code",
   "execution_count": 55,
   "metadata": {
    "collapsed": false
   },
   "outputs": [
    {
     "name": "stdout",
     "output_type": "stream",
     "text": [
      "[-0.25  0.75  0.5 ]\n",
      "[[ 0.2  0.9  1.3]\n",
      " [ 1.2  0.2  0.7]]\n"
     ]
    }
   ],
   "source": [
    "obj_portfolio.calcPortfolioRisk()"
   ]
  },
  {
   "cell_type": "markdown",
   "metadata": {},
   "source": [
    "#### Print Inputs"
   ]
  },
  {
   "cell_type": "code",
   "execution_count": 56,
   "metadata": {
    "collapsed": false
   },
   "outputs": [
    {
     "name": "stdout",
     "output_type": "stream",
     "text": [
      "*************INPUTS**************\n",
      "*********************************\n",
      "\n",
      "          Weight\n",
      "Stock Id        \n",
      "Stock1     -0.25\n",
      "Stock2      0.75\n",
      "Stock3      0.50\n",
      "*********************************\n",
      "          Beta 1  Beta 2\n",
      "Stock Id                \n",
      "Stock1       0.2     1.2\n",
      "Stock2       0.9     0.2\n",
      "Stock3       1.3     0.7\n",
      "*********************************\n",
      "               Asset Class  Volatility\n",
      "Risk Factor Id                        \n",
      "Index1              Equity        0.15\n",
      "Index2              Equity        0.20\n",
      "\n"
     ]
    }
   ],
   "source": [
    "print '*************INPUTS**************'\n",
    "print '*********************************'\n",
    "print ''\n",
    "print df_portfolio_data\n",
    "print '*********************************'\n",
    "print df_stocks_beta_data\n",
    "print '*********************************'\n",
    "print df_risk_factors_data\n",
    "print ''"
   ]
  },
  {
   "cell_type": "markdown",
   "metadata": {},
   "source": [
    "#### Print Outputs"
   ]
  },
  {
   "cell_type": "code",
   "execution_count": 57,
   "metadata": {
    "collapsed": false
   },
   "outputs": [
    {
     "name": "stdout",
     "output_type": "stream",
     "text": [
      "************OUTPUTS**************\n",
      "*********************************\n",
      "\n",
      "************Net Betas of stocks in portfolio************\n",
      "['Index2', 'Index1']\n",
      "[ 1.275  0.2  ]\n",
      "********************************************************\n",
      "***********Covariance Matrix of risk factors************\n",
      "        Index2  Index1\n",
      "Index2   0.040 -0.0150\n",
      "Index1  -0.015  0.0225\n",
      "*********Portfolio Variance due to risk factors*********\n",
      "0.058275\n",
      "*********Portfolio Volatility due to risk factors*********\n",
      "0.241402154091\n"
     ]
    }
   ],
   "source": [
    "print '************OUTPUTS**************'\n",
    "print '*********************************'\n",
    "print ''\n",
    "print '************Net Betas of stocks in portfolio************'\n",
    "print obj_portfolio.getAllRiskFactorsNames()\n",
    "print obj_portfolio.getPortfolioBeta()    \n",
    "print '********************************************************'\n",
    "print '***********Covariance Matrix of risk factors************'\n",
    "print mat_portfolio_risk_factors_var_covar\n",
    "print '*********Portfolio Variance due to risk factors*********'\n",
    "print obj_portfolio.getPortfolioVariance()\n",
    "print '*********Portfolio Volatility due to risk factors*********'\n",
    "print obj_portfolio.getPortfolioVolatility()"
   ]
  },
  {
   "cell_type": "code",
   "execution_count": null,
   "metadata": {
    "collapsed": true
   },
   "outputs": [],
   "source": []
  }
 ],
 "metadata": {
  "celltoolbar": "Raw Cell Format",
  "kernelspec": {
   "display_name": "Python 2",
   "language": "python",
   "name": "python2"
  },
  "language_info": {
   "codemirror_mode": {
    "name": "ipython",
    "version": 2
   },
   "file_extension": ".py",
   "mimetype": "text/x-python",
   "name": "python",
   "nbconvert_exporter": "python",
   "pygments_lexer": "ipython2",
   "version": "2.7.11"
  }
 },
 "nbformat": 4,
 "nbformat_minor": 0
}
